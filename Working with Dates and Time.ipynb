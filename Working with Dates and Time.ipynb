{
 "cells": [
  {
   "cell_type": "code",
   "execution_count": 1,
   "id": "11d09522",
   "metadata": {},
   "outputs": [],
   "source": [
    "import pandas as pd\n",
    "import datetime as dt"
   ]
  },
  {
   "cell_type": "markdown",
   "id": "12c13941",
   "metadata": {},
   "source": [
    "## Review of python's datatime Module"
   ]
  },
  {
   "cell_type": "code",
   "execution_count": 2,
   "id": "9202abc9",
   "metadata": {},
   "outputs": [],
   "source": [
    "someday = dt.date(2016,4,30)"
   ]
  },
  {
   "cell_type": "code",
   "execution_count": 3,
   "id": "e1d618a6",
   "metadata": {},
   "outputs": [
    {
     "data": {
      "text/plain": [
       "30"
      ]
     },
     "execution_count": 3,
     "metadata": {},
     "output_type": "execute_result"
    }
   ],
   "source": [
    "someday.year\n",
    "someday.month\n",
    "someday.day"
   ]
  },
  {
   "cell_type": "code",
   "execution_count": 4,
   "id": "6351eceb",
   "metadata": {},
   "outputs": [
    {
     "data": {
      "text/plain": [
       "'2010-12-23 17:13:57'"
      ]
     },
     "execution_count": 4,
     "metadata": {},
     "output_type": "execute_result"
    }
   ],
   "source": [
    "str(dt.datetime(2010,12,23,17,13,57))"
   ]
  },
  {
   "cell_type": "code",
   "execution_count": 5,
   "id": "c952c9aa",
   "metadata": {},
   "outputs": [],
   "source": [
    "sometime = dt.datetime(2010,12,23,17,13,57)"
   ]
  },
  {
   "cell_type": "code",
   "execution_count": 6,
   "id": "51413b46",
   "metadata": {},
   "outputs": [
    {
     "name": "stdout",
     "output_type": "stream",
     "text": [
      "12\n",
      "23\n",
      "17\n"
     ]
    }
   ],
   "source": [
    "sometime.year\n",
    "print(sometime.month)\n",
    "print(sometime.day)\n",
    "print(sometime.hour)"
   ]
  },
  {
   "cell_type": "markdown",
   "id": "fb11001b",
   "metadata": {},
   "source": [
    "## The pandas Timestamp Object"
   ]
  },
  {
   "cell_type": "code",
   "execution_count": 7,
   "id": "faa32ca2",
   "metadata": {},
   "outputs": [
    {
     "data": {
      "text/plain": [
       "Timestamp('2015-05-23 18:13:56')"
      ]
     },
     "execution_count": 7,
     "metadata": {},
     "output_type": "execute_result"
    }
   ],
   "source": [
    "pd.Timestamp(\"2015-05-23\")\n",
    "pd.Timestamp(\"2015/05/23\")\n",
    "pd.Timestamp(\"2015.05.23\")\n",
    "pd.Timestamp(\"2015.05.23 6:13:56 PM\")"
   ]
  },
  {
   "cell_type": "code",
   "execution_count": 8,
   "id": "c638978c",
   "metadata": {},
   "outputs": [
    {
     "data": {
      "text/plain": [
       "Timestamp('2023-02-03 00:00:00')"
      ]
     },
     "execution_count": 8,
     "metadata": {},
     "output_type": "execute_result"
    }
   ],
   "source": [
    "pd.Timestamp(dt.date(2023,2,3))"
   ]
  },
  {
   "cell_type": "code",
   "execution_count": 9,
   "id": "7e9cc1f5",
   "metadata": {},
   "outputs": [
    {
     "data": {
      "text/plain": [
       "Timestamp('2000-12-08 12:00:00')"
      ]
     },
     "execution_count": 9,
     "metadata": {},
     "output_type": "execute_result"
    }
   ],
   "source": [
    "pd.Timestamp(dt.datetime(2000,12,8,12,0,0))"
   ]
  },
  {
   "cell_type": "markdown",
   "id": "5c556e86",
   "metadata": {},
   "source": [
    "## The pandas DateTimeIndex Object"
   ]
  },
  {
   "cell_type": "code",
   "execution_count": 10,
   "id": "5a1d3903",
   "metadata": {},
   "outputs": [
    {
     "data": {
      "text/plain": [
       "DatetimeIndex(['2016-01-02', '2016-08-05', '2016-10-07'], dtype='datetime64[ns]', freq=None)"
      ]
     },
     "execution_count": 10,
     "metadata": {},
     "output_type": "execute_result"
    }
   ],
   "source": [
    "dates = ['2016-01-02','2016-08-5','2016-10-7']\n",
    "pd.DatetimeIndex(dates)"
   ]
  },
  {
   "cell_type": "code",
   "execution_count": 11,
   "id": "178adaeb",
   "metadata": {},
   "outputs": [],
   "source": [
    "dates = [dt.date(2000,5,6),dt.date(2000,8,5),dt.date(2000,4,3)]\n",
    "indx = pd.DatetimeIndex(dates)"
   ]
  },
  {
   "cell_type": "code",
   "execution_count": 12,
   "id": "73459e1c",
   "metadata": {},
   "outputs": [
    {
     "data": {
      "text/plain": [
       "2000-05-06    100\n",
       "2000-08-05    200\n",
       "2000-04-03    300\n",
       "dtype: int64"
      ]
     },
     "execution_count": 12,
     "metadata": {},
     "output_type": "execute_result"
    }
   ],
   "source": [
    "val = [100,200,300]\n",
    "pd.Series(data = val, index=indx)"
   ]
  },
  {
   "cell_type": "markdown",
   "id": "55df579e",
   "metadata": {},
   "source": [
    "## The pd.to_datetime() Method"
   ]
  },
  {
   "cell_type": "code",
   "execution_count": 13,
   "id": "eb839141",
   "metadata": {},
   "outputs": [
    {
     "data": {
      "text/plain": [
       "Timestamp('2021-08-04 03:07:56')"
      ]
     },
     "execution_count": 13,
     "metadata": {},
     "output_type": "execute_result"
    }
   ],
   "source": [
    "pd.to_datetime(\"2001-04-16\")\n",
    "pd.to_datetime(dt.date(2015,1,1))\n",
    "pd.to_datetime(dt.datetime(2021,8,4,3,7,56))"
   ]
  },
  {
   "cell_type": "code",
   "execution_count": 14,
   "id": "43e64081",
   "metadata": {},
   "outputs": [
    {
     "data": {
      "text/plain": [
       "0        2015-01-03\n",
       "1        2014/02/08\n",
       "2              2016\n",
       "3    July 4th, 1996\n",
       "dtype: object"
      ]
     },
     "execution_count": 14,
     "metadata": {},
     "output_type": "execute_result"
    }
   ],
   "source": [
    "times = pd.Series(['2015-01-03','2014/02/08','2016','July 4th, 1996'])\n",
    "times"
   ]
  },
  {
   "cell_type": "code",
   "execution_count": 15,
   "id": "551345dd",
   "metadata": {},
   "outputs": [
    {
     "data": {
      "text/plain": [
       "0   2015-01-03\n",
       "1   2014-02-08\n",
       "2   2016-01-01\n",
       "3   1996-07-04\n",
       "dtype: datetime64[ns]"
      ]
     },
     "execution_count": 15,
     "metadata": {},
     "output_type": "execute_result"
    }
   ],
   "source": [
    "pd.to_datetime(times)"
   ]
  },
  {
   "cell_type": "markdown",
   "id": "5f1e2246",
   "metadata": {},
   "source": [
    "## Create Range of Dates with the pd.date_range() Method, Part 1"
   ]
  },
  {
   "cell_type": "code",
   "execution_count": 16,
   "id": "b6d7529a",
   "metadata": {},
   "outputs": [
    {
     "data": {
      "text/plain": [
       "DatetimeIndex(['2017-01-01', '2017-01-02', '2017-01-03', '2017-01-04',\n",
       "               '2017-01-05', '2017-01-06', '2017-01-07', '2017-01-08',\n",
       "               '2017-01-09', '2017-01-10'],\n",
       "              dtype='datetime64[ns]', freq='D')"
      ]
     },
     "execution_count": 16,
     "metadata": {},
     "output_type": "execute_result"
    }
   ],
   "source": [
    "times = pd.date_range(start = '2017-01-01',end = '2017-01-10', freq = 'D')\n",
    "times"
   ]
  },
  {
   "cell_type": "code",
   "execution_count": 17,
   "id": "370837e8",
   "metadata": {},
   "outputs": [
    {
     "data": {
      "text/plain": [
       "pandas.core.indexes.datetimes.DatetimeIndex"
      ]
     },
     "execution_count": 17,
     "metadata": {},
     "output_type": "execute_result"
    }
   ],
   "source": [
    "type(times)"
   ]
  },
  {
   "cell_type": "code",
   "execution_count": 18,
   "id": "e2f255e0",
   "metadata": {},
   "outputs": [
    {
     "data": {
      "text/plain": [
       "Timestamp('2017-01-01 00:00:00', freq='D')"
      ]
     },
     "execution_count": 18,
     "metadata": {},
     "output_type": "execute_result"
    }
   ],
   "source": [
    "times[0]"
   ]
  },
  {
   "cell_type": "code",
   "execution_count": 19,
   "id": "15ccb06c",
   "metadata": {},
   "outputs": [
    {
     "data": {
      "text/plain": [
       "DatetimeIndex(['2017-01-02', '2017-01-03', '2017-01-04', '2017-01-05',\n",
       "               '2017-01-06', '2017-01-09', '2017-01-10'],\n",
       "              dtype='datetime64[ns]', freq='B')"
      ]
     },
     "execution_count": 19,
     "metadata": {},
     "output_type": "execute_result"
    }
   ],
   "source": [
    "business_day = pd.date_range(start = '2017-01-01',end = '2017-01-10', freq = 'B')\n",
    "business_day"
   ]
  },
  {
   "cell_type": "markdown",
   "id": "78632ec7",
   "metadata": {},
   "source": [
    "## Create Range of Dates with the pd.date_range() Method, Part 2"
   ]
  },
  {
   "cell_type": "code",
   "execution_count": 20,
   "id": "43f2fa60",
   "metadata": {},
   "outputs": [
    {
     "data": {
      "text/plain": [
       "DatetimeIndex(['2012-09-09 00:00:00', '2012-09-10 06:00:00',\n",
       "               '2012-09-11 12:00:00', '2012-09-12 18:00:00',\n",
       "               '2012-09-14 00:00:00', '2012-09-15 06:00:00',\n",
       "               '2012-09-16 12:00:00', '2012-09-17 18:00:00',\n",
       "               '2012-09-19 00:00:00', '2012-09-20 06:00:00',\n",
       "               '2012-09-21 12:00:00', '2012-09-22 18:00:00',\n",
       "               '2012-09-24 00:00:00', '2012-09-25 06:00:00',\n",
       "               '2012-09-26 12:00:00', '2012-09-27 18:00:00',\n",
       "               '2012-09-29 00:00:00', '2012-09-30 06:00:00',\n",
       "               '2012-10-01 12:00:00', '2012-10-02 18:00:00',\n",
       "               '2012-10-04 00:00:00', '2012-10-05 06:00:00',\n",
       "               '2012-10-06 12:00:00', '2012-10-07 18:00:00',\n",
       "               '2012-10-09 00:00:00', '2012-10-10 06:00:00',\n",
       "               '2012-10-11 12:00:00', '2012-10-12 18:00:00',\n",
       "               '2012-10-14 00:00:00', '2012-10-15 06:00:00',\n",
       "               '2012-10-16 12:00:00', '2012-10-17 18:00:00',\n",
       "               '2012-10-19 00:00:00', '2012-10-20 06:00:00',\n",
       "               '2012-10-21 12:00:00', '2012-10-22 18:00:00',\n",
       "               '2012-10-24 00:00:00', '2012-10-25 06:00:00',\n",
       "               '2012-10-26 12:00:00', '2012-10-27 18:00:00',\n",
       "               '2012-10-29 00:00:00', '2012-10-30 06:00:00',\n",
       "               '2012-10-31 12:00:00', '2012-11-01 18:00:00',\n",
       "               '2012-11-03 00:00:00', '2012-11-04 06:00:00',\n",
       "               '2012-11-05 12:00:00', '2012-11-06 18:00:00',\n",
       "               '2012-11-08 00:00:00', '2012-11-09 06:00:00'],\n",
       "              dtype='datetime64[ns]', freq='30H')"
      ]
     },
     "execution_count": 20,
     "metadata": {},
     "output_type": "execute_result"
    }
   ],
   "source": [
    "pd.date_range(start = '2012-09-09', periods=50, freq='30H')"
   ]
  },
  {
   "cell_type": "markdown",
   "id": "94ecb40c",
   "metadata": {},
   "source": [
    "## Create Range of Dates with the pd.date_range() Method, Part 3"
   ]
  },
  {
   "cell_type": "code",
   "execution_count": 21,
   "id": "dc81531d",
   "metadata": {},
   "outputs": [
    {
     "data": {
      "text/plain": [
       "DatetimeIndex(['2000-12-04', '2000-12-05', '2000-12-06', '2000-12-07',\n",
       "               '2000-12-08', '2000-12-09', '2000-12-10', '2000-12-11',\n",
       "               '2000-12-12', '2000-12-13', '2000-12-14', '2000-12-15',\n",
       "               '2000-12-16', '2000-12-17', '2000-12-18', '2000-12-19',\n",
       "               '2000-12-20', '2000-12-21', '2000-12-22', '2000-12-23'],\n",
       "              dtype='datetime64[ns]', freq='D')"
      ]
     },
     "execution_count": 21,
     "metadata": {},
     "output_type": "execute_result"
    }
   ],
   "source": [
    "pd.date_range(end ='2000-12-23', periods=20, freq = 'D')"
   ]
  },
  {
   "cell_type": "markdown",
   "id": "9ceec8d1",
   "metadata": {},
   "source": [
    "##  The .dt Accessor "
   ]
  },
  {
   "cell_type": "code",
   "execution_count": 22,
   "id": "419239fd",
   "metadata": {},
   "outputs": [
    {
     "data": {
      "text/plain": [
       "DatetimeIndex(['2000-01-01', '2000-01-25', '2000-02-18', '2000-03-13',\n",
       "               '2000-04-06', '2000-04-30', '2000-05-24', '2000-06-17',\n",
       "               '2000-07-11', '2000-08-04',\n",
       "               ...\n",
       "               '2010-05-20', '2010-06-13', '2010-07-07', '2010-07-31',\n",
       "               '2010-08-24', '2010-09-17', '2010-10-11', '2010-11-04',\n",
       "               '2010-11-28', '2010-12-22'],\n",
       "              dtype='datetime64[ns]', length=168, freq='24D')"
      ]
     },
     "execution_count": 22,
     "metadata": {},
     "output_type": "execute_result"
    }
   ],
   "source": [
    "dates = pd.date_range(start = '2000-01-01', end ='2010-12-31', freq = '24D')\n",
    "dates"
   ]
  },
  {
   "cell_type": "code",
   "execution_count": 23,
   "id": "4425bcf1",
   "metadata": {},
   "outputs": [
    {
     "data": {
      "text/plain": [
       "0   2000-01-01\n",
       "1   2000-01-25\n",
       "2   2000-02-18\n",
       "3   2000-03-13\n",
       "4   2000-04-06\n",
       "dtype: datetime64[ns]"
      ]
     },
     "execution_count": 23,
     "metadata": {},
     "output_type": "execute_result"
    }
   ],
   "source": [
    "s = pd.Series(dates)\n",
    "s.head()"
   ]
  },
  {
   "cell_type": "code",
   "execution_count": 24,
   "id": "ceb4bd8f",
   "metadata": {},
   "outputs": [
    {
     "data": {
      "text/plain": [
       "0     2000-01-01\n",
       "19    2001-04-01\n",
       "38    2002-07-01\n",
       "104   2006-11-01\n",
       "109   2007-03-01\n",
       "137   2009-01-01\n",
       "142   2009-05-01\n",
       "dtype: datetime64[ns]"
      ]
     },
     "execution_count": 24,
     "metadata": {},
     "output_type": "execute_result"
    }
   ],
   "source": [
    "mask = s.dt.is_month_start\n",
    "s[mask]"
   ]
  },
  {
   "cell_type": "markdown",
   "id": "f50e627c",
   "metadata": {},
   "source": [
    "## Import Financial Dataset with pandas_datareader Library"
   ]
  },
  {
   "cell_type": "code",
   "execution_count": 25,
   "id": "64f3c403",
   "metadata": {},
   "outputs": [],
   "source": [
    "import pandas as pd\n",
    "import datetime as dt\n",
    "from pandas_datareader import data"
   ]
  },
  {
   "cell_type": "code",
   "execution_count": null,
   "id": "37318599",
   "metadata": {},
   "outputs": [],
   "source": [
    "data.DataReader()"
   ]
  },
  {
   "cell_type": "code",
   "execution_count": null,
   "id": "735711e7",
   "metadata": {},
   "outputs": [],
   "source": []
  },
  {
   "cell_type": "code",
   "execution_count": null,
   "id": "e8b2eb9e",
   "metadata": {},
   "outputs": [],
   "source": []
  },
  {
   "cell_type": "code",
   "execution_count": null,
   "id": "96878c93",
   "metadata": {},
   "outputs": [],
   "source": []
  },
  {
   "cell_type": "code",
   "execution_count": null,
   "id": "b98e4c76",
   "metadata": {},
   "outputs": [],
   "source": []
  },
  {
   "cell_type": "code",
   "execution_count": null,
   "id": "5cf0325f",
   "metadata": {},
   "outputs": [],
   "source": []
  },
  {
   "cell_type": "code",
   "execution_count": null,
   "id": "e4b895dd",
   "metadata": {},
   "outputs": [],
   "source": []
  },
  {
   "cell_type": "code",
   "execution_count": null,
   "id": "cc2cbf79",
   "metadata": {},
   "outputs": [],
   "source": []
  },
  {
   "cell_type": "code",
   "execution_count": null,
   "id": "8c5ffc02",
   "metadata": {},
   "outputs": [],
   "source": []
  },
  {
   "cell_type": "code",
   "execution_count": null,
   "id": "08f5a066",
   "metadata": {},
   "outputs": [],
   "source": []
  }
 ],
 "metadata": {
  "kernelspec": {
   "display_name": "Python 3 (ipykernel)",
   "language": "python",
   "name": "python3"
  },
  "language_info": {
   "codemirror_mode": {
    "name": "ipython",
    "version": 3
   },
   "file_extension": ".py",
   "mimetype": "text/x-python",
   "name": "python",
   "nbconvert_exporter": "python",
   "pygments_lexer": "ipython3",
   "version": "3.10.9"
  }
 },
 "nbformat": 4,
 "nbformat_minor": 5
}
