{
 "cells": [
  {
   "cell_type": "code",
   "execution_count": 1,
   "id": "f9bcf236",
   "metadata": {},
   "outputs": [],
   "source": [
    "import pandas as pd"
   ]
  },
  {
   "cell_type": "markdown",
   "id": "fc800454",
   "metadata": {},
   "source": [
    "## Create a Series Object from Python List"
   ]
  },
  {
   "cell_type": "code",
   "execution_count": 2,
   "id": "fa0793d6",
   "metadata": {},
   "outputs": [
    {
     "data": {
      "text/plain": [
       "0     chocolate\n",
       "1       vanilla\n",
       "2    strawberry\n",
       "3    mint choco\n",
       "dtype: object"
      ]
     },
     "execution_count": 2,
     "metadata": {},
     "output_type": "execute_result"
    }
   ],
   "source": [
    "ice_cream = ['chocolate','vanilla','strawberry','mint choco']\n",
    "\n",
    "pd.Series(ice_cream)"
   ]
  },
  {
   "cell_type": "code",
   "execution_count": 3,
   "id": "7535849e",
   "metadata": {},
   "outputs": [
    {
     "data": {
      "text/plain": [
       "0    1\n",
       "1    2\n",
       "2    3\n",
       "3    4\n",
       "4    5\n",
       "dtype: int64"
      ]
     },
     "execution_count": 3,
     "metadata": {},
     "output_type": "execute_result"
    }
   ],
   "source": [
    "lottery = [1,2,3,4,5]\n",
    "pd.Series(lottery)"
   ]
  },
  {
   "cell_type": "code",
   "execution_count": 4,
   "id": "4a909e18",
   "metadata": {},
   "outputs": [
    {
     "data": {
      "text/plain": [
       "0     True\n",
       "1    False\n",
       "2     True\n",
       "3     True\n",
       "dtype: bool"
      ]
     },
     "execution_count": 4,
     "metadata": {},
     "output_type": "execute_result"
    }
   ],
   "source": [
    "attendance = [True,False,True,True]\n",
    "pd.Series(attendance)"
   ]
  },
  {
   "cell_type": "markdown",
   "id": "b0867acc",
   "metadata": {},
   "source": [
    "## Create a Series Object from a Dictionary"
   ]
  },
  {
   "cell_type": "code",
   "execution_count": 5,
   "id": "3265d50f",
   "metadata": {},
   "outputs": [
    {
     "data": {
      "text/plain": [
       "Salmon    Orange\n",
       "Tuna         Red\n",
       "Eel        Brown\n",
       "dtype: object"
      ]
     },
     "execution_count": 5,
     "metadata": {},
     "output_type": "execute_result"
    }
   ],
   "source": [
    "sushi = {\n",
    "    \"Salmon\" : \"Orange\",\n",
    "    \"Tuna\" : \"Red\",\n",
    "    \"Eel\" : \"Brown\"\n",
    "}\n",
    "\n",
    "pd.Series(sushi)      #col0:index, col1:index_label "
   ]
  },
  {
   "cell_type": "markdown",
   "id": "af3d5ea6",
   "metadata": {},
   "source": [
    "## Intro to Methods"
   ]
  },
  {
   "cell_type": "code",
   "execution_count": 6,
   "id": "a1744c7c",
   "metadata": {},
   "outputs": [
    {
     "data": {
      "text/plain": [
       "0    2.99\n",
       "1    4.45\n",
       "2    1.36\n",
       "dtype: float64"
      ]
     },
     "execution_count": 6,
     "metadata": {},
     "output_type": "execute_result"
    }
   ],
   "source": [
    "prices = pd.Series([2.99, 4.45, 1.36])\n",
    "prices "
   ]
  },
  {
   "cell_type": "code",
   "execution_count": 7,
   "id": "d33fe6e5",
   "metadata": {},
   "outputs": [
    {
     "data": {
      "text/plain": [
       "8.8"
      ]
     },
     "execution_count": 7,
     "metadata": {},
     "output_type": "execute_result"
    }
   ],
   "source": [
    "prices.sum()"
   ]
  },
  {
   "cell_type": "code",
   "execution_count": 8,
   "id": "0b4c7cdf",
   "metadata": {},
   "outputs": [
    {
     "data": {
      "text/plain": [
       "18.095480000000006"
      ]
     },
     "execution_count": 8,
     "metadata": {},
     "output_type": "execute_result"
    }
   ],
   "source": [
    "prices.product()"
   ]
  },
  {
   "cell_type": "code",
   "execution_count": 9,
   "id": "52c5881a",
   "metadata": {},
   "outputs": [
    {
     "data": {
      "text/plain": [
       "2.9333333333333336"
      ]
     },
     "execution_count": 9,
     "metadata": {},
     "output_type": "execute_result"
    }
   ],
   "source": [
    "prices.mean()"
   ]
  },
  {
   "cell_type": "markdown",
   "id": "43c134a5",
   "metadata": {},
   "source": [
    "## Intro to Atrributes "
   ]
  },
  {
   "cell_type": "code",
   "execution_count": 10,
   "id": "f88f8f59",
   "metadata": {},
   "outputs": [
    {
     "data": {
      "text/plain": [
       "0        Cute\n",
       "1      Sleepy\n",
       "2        Lazy\n",
       "3    Charming\n",
       "dtype: object"
      ]
     },
     "execution_count": 10,
     "metadata": {},
     "output_type": "execute_result"
    }
   ],
   "source": [
    "adjectives = pd.Series([\"Cute\",\"Sleepy\",\"Lazy\",\"Charming\"])\n",
    "adjectives"
   ]
  },
  {
   "cell_type": "code",
   "execution_count": 11,
   "id": "3bccc7a9",
   "metadata": {},
   "outputs": [
    {
     "data": {
      "text/plain": [
       "4"
      ]
     },
     "execution_count": 11,
     "metadata": {},
     "output_type": "execute_result"
    }
   ],
   "source": [
    "adjectives.size"
   ]
  },
  {
   "cell_type": "code",
   "execution_count": 12,
   "id": "c20ccf3e",
   "metadata": {},
   "outputs": [
    {
     "data": {
      "text/plain": [
       "True"
      ]
     },
     "execution_count": 12,
     "metadata": {},
     "output_type": "execute_result"
    }
   ],
   "source": [
    "adjectives.is_unique # tells us if it has any duplicate "
   ]
  },
  {
   "cell_type": "code",
   "execution_count": 13,
   "id": "151955dd",
   "metadata": {},
   "outputs": [
    {
     "data": {
      "text/plain": [
       "array(['Cute', 'Sleepy', 'Lazy', 'Charming'], dtype=object)"
      ]
     },
     "execution_count": 13,
     "metadata": {},
     "output_type": "execute_result"
    }
   ],
   "source": [
    "adjectives.values # returns ndarray"
   ]
  },
  {
   "cell_type": "code",
   "execution_count": 14,
   "id": "10c06ca2",
   "metadata": {},
   "outputs": [
    {
     "data": {
      "text/plain": [
       "numpy.ndarray"
      ]
     },
     "execution_count": 14,
     "metadata": {},
     "output_type": "execute_result"
    }
   ],
   "source": [
    "type(adjectives.values)"
   ]
  },
  {
   "cell_type": "code",
   "execution_count": 15,
   "id": "6e13c39a",
   "metadata": {},
   "outputs": [
    {
     "data": {
      "text/plain": [
       "RangeIndex(start=0, stop=4, step=1)"
      ]
     },
     "execution_count": 15,
     "metadata": {},
     "output_type": "execute_result"
    }
   ],
   "source": [
    "adjectives.index"
   ]
  },
  {
   "cell_type": "code",
   "execution_count": 16,
   "id": "542bbe1e",
   "metadata": {},
   "outputs": [
    {
     "data": {
      "text/plain": [
       "dtype('O')"
      ]
     },
     "execution_count": 16,
     "metadata": {},
     "output_type": "execute_result"
    }
   ],
   "source": [
    "adjectives.dtype"
   ]
  },
  {
   "cell_type": "markdown",
   "id": "51db0722",
   "metadata": {},
   "source": [
    "## Parameters and Arguments"
   ]
  },
  {
   "cell_type": "code",
   "execution_count": 17,
   "id": "ca19de71",
   "metadata": {},
   "outputs": [],
   "source": [
    "# Parameter - The name we give to an expected input\n",
    "# Arguments - The concrete value that we provide to a parameter \n",
    "\n",
    "# Difficulty - Easy, Medium, Hard \n",
    "# Parameter = Difficulty , Arguments = Easy, Medium, Hard "
   ]
  },
  {
   "cell_type": "code",
   "execution_count": 18,
   "id": "1969d1b5",
   "metadata": {},
   "outputs": [
    {
     "data": {
      "text/plain": [
       "Monday           Apple\n",
       "Tuesday         Orange\n",
       "Wednesday         Plum\n",
       "Thursday         Grape\n",
       "Friday       Blueberry\n",
       "dtype: object"
      ]
     },
     "execution_count": 18,
     "metadata": {},
     "output_type": "execute_result"
    }
   ],
   "source": [
    "fruits = ['Apple','Orange','Plum','Grape','Blueberry']\n",
    "weekdays = ['Monday','Tuesday','Wednesday','Thursday','Friday']\n",
    "\n",
    "pd.Series(data= fruits,index=weekdays)"
   ]
  },
  {
   "cell_type": "code",
   "execution_count": 19,
   "id": "9aca7d40",
   "metadata": {},
   "outputs": [],
   "source": [
    "# Series index does not need to be unique"
   ]
  },
  {
   "cell_type": "markdown",
   "id": "3f3dc6a4",
   "metadata": {},
   "source": [
    "## Import Series with pd.read_csv Function"
   ]
  },
  {
   "cell_type": "code",
   "execution_count": 20,
   "id": "09380beb",
   "metadata": {},
   "outputs": [],
   "source": [
    "pokemon_series = pd.read_csv('pokemon.csv',usecols=['Pokemon']).squeeze(\"columns\")   #returns pandas series "
   ]
  },
  {
   "cell_type": "code",
   "execution_count": 21,
   "id": "8a66ca70",
   "metadata": {},
   "outputs": [
    {
     "data": {
      "text/plain": [
       "0       Bulbasaur\n",
       "1         Ivysaur\n",
       "2        Venusaur\n",
       "3      Charmander\n",
       "4      Charmeleon\n",
       "          ...    \n",
       "716       Yveltal\n",
       "717       Zygarde\n",
       "718       Diancie\n",
       "719         Hoopa\n",
       "720     Volcanion\n",
       "Name: Pokemon, Length: 721, dtype: object"
      ]
     },
     "execution_count": 21,
     "metadata": {},
     "output_type": "execute_result"
    }
   ],
   "source": [
    "pokemon_series"
   ]
  },
  {
   "cell_type": "code",
   "execution_count": 22,
   "id": "9943fc9f",
   "metadata": {},
   "outputs": [],
   "source": [
    "stock_price = pd.read_csv('google_stock_price.csv').squeeze()"
   ]
  },
  {
   "cell_type": "code",
   "execution_count": 23,
   "id": "6b6781de",
   "metadata": {},
   "outputs": [
    {
     "data": {
      "text/plain": [
       "pandas.core.series.Series"
      ]
     },
     "execution_count": 23,
     "metadata": {},
     "output_type": "execute_result"
    }
   ],
   "source": [
    "type(stock_price)"
   ]
  },
  {
   "cell_type": "markdown",
   "id": "dd87c454",
   "metadata": {},
   "source": [
    "## The head and tail Methods on a Series"
   ]
  },
  {
   "cell_type": "code",
   "execution_count": 24,
   "id": "860e34f5",
   "metadata": {},
   "outputs": [],
   "source": [
    "pokemon = pd.read_csv('pokemon.csv',usecols=['Pokemon']).squeeze(\"columns\")\n",
    "google = pd.read_csv('google_stock_price.csv',usecols=['Stock Price']).squeeze(\"columns\")"
   ]
  },
  {
   "cell_type": "code",
   "execution_count": 25,
   "id": "ccaf8eb4",
   "metadata": {},
   "outputs": [
    {
     "data": {
      "text/plain": [
       "0    Bulbasaur\n",
       "1      Ivysaur\n",
       "Name: Pokemon, dtype: object"
      ]
     },
     "execution_count": 25,
     "metadata": {},
     "output_type": "execute_result"
    }
   ],
   "source": [
    "pokemon.head(2) #gives view of the dataset from the start"
   ]
  },
  {
   "cell_type": "code",
   "execution_count": 26,
   "id": "61daa63f",
   "metadata": {},
   "outputs": [
    {
     "data": {
      "text/plain": [
       "3009    773.18\n",
       "3010    771.61\n",
       "3011    782.22\n",
       "Name: Stock Price, dtype: float64"
      ]
     },
     "execution_count": 26,
     "metadata": {},
     "output_type": "execute_result"
    }
   ],
   "source": [
    "google.tail(3) #views data from the bottom"
   ]
  },
  {
   "cell_type": "markdown",
   "id": "b8e1b724",
   "metadata": {},
   "source": [
    "## Passing Series to Python's Built-in Function"
   ]
  },
  {
   "cell_type": "code",
   "execution_count": 27,
   "id": "bfc8c3f5",
   "metadata": {},
   "outputs": [],
   "source": [
    "pokemon = pd.read_csv('pokemon.csv',usecols=['Pokemon']).squeeze(\"columns\")\n",
    "google = pd.read_csv('google_stock_price.csv',usecols=['Stock Price']).squeeze(\"columns\")"
   ]
  },
  {
   "cell_type": "code",
   "execution_count": 28,
   "id": "971f9527",
   "metadata": {},
   "outputs": [
    {
     "data": {
      "text/plain": [
       "0    Bulbasaur\n",
       "1      Ivysaur\n",
       "2     Venusaur\n",
       "Name: Pokemon, dtype: object"
      ]
     },
     "execution_count": 28,
     "metadata": {},
     "output_type": "execute_result"
    }
   ],
   "source": [
    "pokemon.head(3)"
   ]
  },
  {
   "cell_type": "code",
   "execution_count": 29,
   "id": "9db96f11",
   "metadata": {},
   "outputs": [
    {
     "name": "stdout",
     "output_type": "stream",
     "text": [
      "721\n",
      "<class 'pandas.core.series.Series'>\n",
      "<class 'list'>\n"
     ]
    }
   ],
   "source": [
    "print(len(pokemon))\n",
    "print(type(pokemon))\n",
    "# print(dir(pokemon)) \n",
    "print(type(sorted(pokemon)))"
   ]
  },
  {
   "cell_type": "markdown",
   "id": "548c6dc0",
   "metadata": {},
   "source": [
    " ## The sort_values Method"
   ]
  },
  {
   "cell_type": "code",
   "execution_count": 30,
   "id": "b1322960",
   "metadata": {},
   "outputs": [],
   "source": [
    "pokemon = pd.read_csv('pokemon.csv',usecols=['Pokemon']).squeeze(\"columns\")\n",
    "google = pd.read_csv('google_stock_price.csv',usecols=['Stock Price']).squeeze(\"columns\")"
   ]
  },
  {
   "cell_type": "code",
   "execution_count": 31,
   "id": "0bb1fbbd",
   "metadata": {},
   "outputs": [
    {
     "name": "stdout",
     "output_type": "stream",
     "text": [
      "459    Abomasnow\n",
      "62          Abra\n",
      "Name: Pokemon, dtype: object\n",
      "717     Zygarde\n",
      "633    Zweilous\n",
      "Name: Pokemon, dtype: object\n"
     ]
    }
   ],
   "source": [
    "print(pokemon.sort_values(ascending=True).head(2)) # ascending order\n",
    "print(pokemon.sort_values(ascending=False).head(2)) # descending order "
   ]
  },
  {
   "cell_type": "markdown",
   "id": "53c5309b",
   "metadata": {},
   "source": [
    "## The sort_index Method"
   ]
  },
  {
   "cell_type": "code",
   "execution_count": 32,
   "id": "446529da",
   "metadata": {},
   "outputs": [
    {
     "data": {
      "text/plain": [
       "Pokemon\n",
       "Bulbasaur     Grass\n",
       "Ivysaur       Grass\n",
       "Venusaur      Grass\n",
       "Charmander     Fire\n",
       "Charmeleon     Fire\n",
       "Name: Type, dtype: object"
      ]
     },
     "execution_count": 32,
     "metadata": {},
     "output_type": "execute_result"
    }
   ],
   "source": [
    "pokemon = pd.read_csv('pokemon.csv',index_col='Pokemon').squeeze(\"columns\")\n",
    "pokemon.head()"
   ]
  },
  {
   "cell_type": "code",
   "execution_count": 33,
   "id": "fddd9c2f",
   "metadata": {},
   "outputs": [
    {
     "data": {
      "text/plain": [
       "Pokemon\n",
       "Abomasnow      Grass\n",
       "Abra         Psychic\n",
       "Absol           Dark\n",
       "Accelgor         Bug\n",
       "Aegislash      Steel\n",
       "Name: Type, dtype: object"
      ]
     },
     "execution_count": 33,
     "metadata": {},
     "output_type": "execute_result"
    }
   ],
   "source": [
    "pokemon.sort_index(ascending=True).head() "
   ]
  },
  {
   "cell_type": "code",
   "execution_count": 34,
   "id": "ce85bf26",
   "metadata": {},
   "outputs": [
    {
     "data": {
      "text/plain": [
       "Pokemon\n",
       "Zygarde     Dragon\n",
       "Zweilous      Dark\n",
       "Zubat       Poison\n",
       "Zorua         Dark\n",
       "Zoroark       Dark\n",
       "Name: Type, dtype: object"
      ]
     },
     "execution_count": 34,
     "metadata": {},
     "output_type": "execute_result"
    }
   ],
   "source": [
    "pokemon.sort_index(ascending=False).head()"
   ]
  },
  {
   "cell_type": "markdown",
   "id": "ba3d1ec3",
   "metadata": {},
   "source": [
    "## Check for Inclusion with Python's Keyword \n",
    "</br>\n",
    "To check if a given value exists in data"
   ]
  },
  {
   "cell_type": "code",
   "execution_count": 35,
   "id": "3e40a41d",
   "metadata": {},
   "outputs": [
    {
     "data": {
      "text/plain": [
       "0     Bulbasaur\n",
       "1       Ivysaur\n",
       "2      Venusaur\n",
       "3    Charmander\n",
       "4    Charmeleon\n",
       "Name: Pokemon, dtype: object"
      ]
     },
     "execution_count": 35,
     "metadata": {},
     "output_type": "execute_result"
    }
   ],
   "source": [
    "pokemon = pd.read_csv('pokemon.csv',usecols=['Pokemon']).squeeze(\"columns\")\n",
    "pokemon.head()"
   ]
  },
  {
   "cell_type": "code",
   "execution_count": 36,
   "id": "1b6cdd43",
   "metadata": {},
   "outputs": [
    {
     "data": {
      "text/plain": [
       "False"
      ]
     },
     "execution_count": 36,
     "metadata": {},
     "output_type": "execute_result"
    }
   ],
   "source": [
    "\"Bulbasaur\" in pokemon"
   ]
  },
  {
   "cell_type": "code",
   "execution_count": 37,
   "id": "820aa860",
   "metadata": {},
   "outputs": [
    {
     "data": {
      "text/plain": [
       "True"
      ]
     },
     "execution_count": 37,
     "metadata": {},
     "output_type": "execute_result"
    }
   ],
   "source": [
    "\"Bulbasaur\" in pokemon.values"
   ]
  },
  {
   "cell_type": "markdown",
   "id": "8f3fd90c",
   "metadata": {},
   "source": [
    "## Extract Series Value by Index Position"
   ]
  },
  {
   "cell_type": "code",
   "execution_count": 38,
   "id": "30e325db",
   "metadata": {},
   "outputs": [
    {
     "data": {
      "text/plain": [
       "0     Bulbasaur\n",
       "1       Ivysaur\n",
       "2      Venusaur\n",
       "3    Charmander\n",
       "4    Charmeleon\n",
       "Name: Pokemon, dtype: object"
      ]
     },
     "execution_count": 38,
     "metadata": {},
     "output_type": "execute_result"
    }
   ],
   "source": [
    "pokemon = pd.read_csv('pokemon.csv',usecols=['Pokemon']).squeeze(\"columns\")\n",
    "pokemon.head()"
   ]
  },
  {
   "cell_type": "code",
   "execution_count": 39,
   "id": "ef9c2546",
   "metadata": {},
   "outputs": [
    {
     "name": "stdout",
     "output_type": "stream",
     "text": [
      "Bulbasaur\n",
      "Unown\n",
      "100    Electrode\n",
      "200        Unown\n",
      "300     Delcatty\n",
      "Name: Pokemon, dtype: object\n",
      "27    Sandslash\n",
      "28      Nidoran\n",
      "29     Nidorina\n",
      "30    Nidoqueen\n",
      "31     Nidoran♂\n",
      "32     Nidorino\n",
      "33     Nidoking\n",
      "34     Clefairy\n",
      "35     Clefable\n",
      "Name: Pokemon, dtype: object\n"
     ]
    }
   ],
   "source": [
    "# accesing single value\n",
    "print(pokemon[0])\n",
    "print(pokemon[200])\n",
    "\n",
    "# accessing Desired Value\n",
    "print(pokemon[[100,200,300]])\n",
    "\n",
    "# Multiple values\n",
    "print(pokemon[27:36]) #27:inclusive 36:exclusive\n",
    "\n"
   ]
  },
  {
   "cell_type": "code",
   "execution_count": 40,
   "id": "c987bb02",
   "metadata": {},
   "outputs": [
    {
     "data": {
      "text/plain": [
       "0     Bulbasaur\n",
       "1       Ivysaur\n",
       "2      Venusaur\n",
       "3    Charmander\n",
       "4    Charmeleon\n",
       "5     Charizard\n",
       "6      Squirtle\n",
       "Name: Pokemon, dtype: object"
      ]
     },
     "execution_count": 40,
     "metadata": {},
     "output_type": "execute_result"
    }
   ],
   "source": [
    "# pulling first 6 elements \n",
    "pokemon[:7]"
   ]
  },
  {
   "cell_type": "code",
   "execution_count": 41,
   "id": "64ae4df9",
   "metadata": {},
   "outputs": [
    {
     "data": {
      "text/plain": [
       "717      Zygarde\n",
       "718      Diancie\n",
       "719        Hoopa\n",
       "720    Volcanion\n",
       "Name: Pokemon, dtype: object"
      ]
     },
     "execution_count": 41,
     "metadata": {},
     "output_type": "execute_result"
    }
   ],
   "source": [
    "# pulling last elements\n",
    "pokemon[717:]"
   ]
  },
  {
   "cell_type": "code",
   "execution_count": 42,
   "id": "739b378d",
   "metadata": {},
   "outputs": [
    {
     "data": {
      "text/plain": [
       "701      Dedenne\n",
       "702      Carbink\n",
       "703        Goomy\n",
       "704      Sliggoo\n",
       "705       Goodra\n",
       "706       Klefki\n",
       "707     Phantump\n",
       "708    Trevenant\n",
       "709    Pumpkaboo\n",
       "710    Gourgeist\n",
       "Name: Pokemon, dtype: object"
      ]
     },
     "execution_count": 42,
     "metadata": {},
     "output_type": "execute_result"
    }
   ],
   "source": [
    "pokemon[-20:-10]"
   ]
  },
  {
   "cell_type": "markdown",
   "id": "55127b8d",
   "metadata": {},
   "source": [
    "## Extract Series Value by Index_label"
   ]
  },
  {
   "cell_type": "code",
   "execution_count": 43,
   "id": "a4f7700b",
   "metadata": {},
   "outputs": [
    {
     "data": {
      "text/plain": [
       "Pokemon\n",
       "Bulbasaur     Grass\n",
       "Ivysaur       Grass\n",
       "Venusaur      Grass\n",
       "Charmander     Fire\n",
       "Charmeleon     Fire\n",
       "Name: Type, dtype: object"
      ]
     },
     "execution_count": 43,
     "metadata": {},
     "output_type": "execute_result"
    }
   ],
   "source": [
    "pokemon = pd.read_csv('pokemon.csv',index_col='Pokemon').squeeze(\"columns\")\n",
    "pokemon.head()"
   ]
  },
  {
   "cell_type": "code",
   "execution_count": 44,
   "id": "7d3b4b5e",
   "metadata": {},
   "outputs": [
    {
     "data": {
      "text/plain": [
       "'Fire'"
      ]
     },
     "execution_count": 44,
     "metadata": {},
     "output_type": "execute_result"
    }
   ],
   "source": [
    "pokemon[\"Charmander\"]"
   ]
  },
  {
   "cell_type": "code",
   "execution_count": 45,
   "id": "49330237",
   "metadata": {},
   "outputs": [
    {
     "data": {
      "text/plain": [
       "Pokemon\n",
       "Bulbasaur     Grass\n",
       "Venusaur      Grass\n",
       "Charmeleon     Fire\n",
       "Name: Type, dtype: object"
      ]
     },
     "execution_count": 45,
     "metadata": {},
     "output_type": "execute_result"
    }
   ],
   "source": [
    "pokemon[[\"Bulbasaur\",\"Venusaur\",\"Charmeleon\"]]"
   ]
  },
  {
   "cell_type": "code",
   "execution_count": 46,
   "id": "cd7a0fcc",
   "metadata": {},
   "outputs": [
    {
     "data": {
      "text/plain": [
       "Pokemon\n",
       "Bulbasaur     Grass\n",
       "Ivysaur       Grass\n",
       "Venusaur      Grass\n",
       "Charmander     Fire\n",
       "Charmeleon     Fire\n",
       "Name: Type, dtype: object"
      ]
     },
     "execution_count": 46,
     "metadata": {},
     "output_type": "execute_result"
    }
   ],
   "source": [
    "pokemon[\"Bulbasaur\":\"Charmeleon\"]"
   ]
  },
  {
   "cell_type": "markdown",
   "id": "aa2a20ff",
   "metadata": {},
   "source": [
    "## The get method on a Series"
   ]
  },
  {
   "cell_type": "code",
   "execution_count": 47,
   "id": "93ee6763",
   "metadata": {},
   "outputs": [
    {
     "data": {
      "text/plain": [
       "Pokemon\n",
       "Bulbasaur     Grass\n",
       "Ivysaur       Grass\n",
       "Venusaur      Grass\n",
       "Charmander     Fire\n",
       "Charmeleon     Fire\n",
       "Name: Type, dtype: object"
      ]
     },
     "execution_count": 47,
     "metadata": {},
     "output_type": "execute_result"
    }
   ],
   "source": [
    "pokemon = pd.read_csv('pokemon.csv', index_col= 'Pokemon').squeeze()\n",
    "pokemon.head()"
   ]
  },
  {
   "cell_type": "code",
   "execution_count": 48,
   "id": "c0247f12",
   "metadata": {},
   "outputs": [
    {
     "data": {
      "text/plain": [
       "'Nonexistent'"
      ]
     },
     "execution_count": 48,
     "metadata": {},
     "output_type": "execute_result"
    }
   ],
   "source": [
    "pokemon.get(0)\n",
    "pokemon.get(\"Bulbasaur\")\n",
    "pokemon.get([5,10])\n",
    "pokemon.get([\"Ivysaur\",\"Charmeleon\"])\n",
    "\n",
    "# pokemon.get(\"Digimon\",\"nonexistent\") gives None\n",
    "\n",
    "pokemon.get([\"Digimon\",\"Charmeleon\"],\"Nonexistent\") # as we know  digimon does not exist in the value"
   ]
  },
  {
   "cell_type": "markdown",
   "id": "8a3cb64b",
   "metadata": {},
   "source": [
    "## Overwrite a Series Value"
   ]
  },
  {
   "cell_type": "code",
   "execution_count": 49,
   "id": "50e04641",
   "metadata": {},
   "outputs": [
    {
     "data": {
      "text/plain": [
       "0     Bulbasaur\n",
       "1       Ivysaur\n",
       "2      Venusaur\n",
       "3    Charmander\n",
       "4    Charmeleon\n",
       "Name: Pokemon, dtype: object"
      ]
     },
     "execution_count": 49,
     "metadata": {},
     "output_type": "execute_result"
    }
   ],
   "source": [
    "pokemon = pd.read_csv('pokemon.csv',usecols = [\"Pokemon\"]).squeeze(\"columns\")\n",
    "pokemon.head()"
   ]
  },
  {
   "cell_type": "code",
   "execution_count": 50,
   "id": "0d2fdffe",
   "metadata": {},
   "outputs": [],
   "source": [
    "pokemon[0] = \"Borisaur\""
   ]
  },
  {
   "cell_type": "code",
   "execution_count": 51,
   "id": "d04506f2",
   "metadata": {},
   "outputs": [
    {
     "data": {
      "text/plain": [
       "'Borisaur'"
      ]
     },
     "execution_count": 51,
     "metadata": {},
     "output_type": "execute_result"
    }
   ],
   "source": [
    "pokemon[0]"
   ]
  },
  {
   "cell_type": "code",
   "execution_count": 52,
   "id": "5328f3ff",
   "metadata": {},
   "outputs": [],
   "source": [
    "pokemon[7210] = \"hello\""
   ]
  },
  {
   "cell_type": "code",
   "execution_count": 53,
   "id": "0938c41a",
   "metadata": {},
   "outputs": [
    {
     "data": {
      "text/plain": [
       "717       Zygarde\n",
       "718       Diancie\n",
       "719         Hoopa\n",
       "720     Volcanion\n",
       "7210        hello\n",
       "Name: Pokemon, dtype: object"
      ]
     },
     "execution_count": 53,
     "metadata": {},
     "output_type": "execute_result"
    }
   ],
   "source": [
    "pokemon.tail()"
   ]
  },
  {
   "cell_type": "code",
   "execution_count": 54,
   "id": "272e6026",
   "metadata": {},
   "outputs": [],
   "source": [
    "pokemon[[1,2,5]] = [\"Firemon\", \"Flamemon\", \"Blazemon\"]"
   ]
  },
  {
   "cell_type": "code",
   "execution_count": 55,
   "id": "3d4bc11c",
   "metadata": {},
   "outputs": [
    {
     "data": {
      "text/plain": [
       "0      Borisaur\n",
       "1       Firemon\n",
       "2      Flamemon\n",
       "3    Charmander\n",
       "4    Charmeleon\n",
       "5      Blazemon\n",
       "Name: Pokemon, dtype: object"
      ]
     },
     "execution_count": 55,
     "metadata": {},
     "output_type": "execute_result"
    }
   ],
   "source": [
    "pokemon.head(6)"
   ]
  },
  {
   "cell_type": "code",
   "execution_count": 56,
   "id": "e6cf61c8",
   "metadata": {},
   "outputs": [
    {
     "data": {
      "text/plain": [
       "Pokemon\n",
       "Bulbasaur     Grass\n",
       "Ivysaur       Grass\n",
       "Venusaur      Grass\n",
       "Charmander     Fire\n",
       "Charmeleon     Fire\n",
       "Name: Type, dtype: object"
      ]
     },
     "execution_count": 56,
     "metadata": {},
     "output_type": "execute_result"
    }
   ],
   "source": [
    "pokemon = pd.read_csv('pokemon.csv', index_col = \"Pokemon\").squeeze(\"columns\") \n",
    "pokemon.head()"
   ]
  },
  {
   "cell_type": "code",
   "execution_count": 57,
   "id": "d55e5bab",
   "metadata": {},
   "outputs": [],
   "source": [
    "pokemon[\"Ivysaur\"] = \"Cry\""
   ]
  },
  {
   "cell_type": "markdown",
   "id": "1d735d32",
   "metadata": {},
   "source": [
    "## The copy Method"
   ]
  },
  {
   "cell_type": "code",
   "execution_count": 58,
   "id": "34025d50",
   "metadata": {},
   "outputs": [],
   "source": [
    "pokemon_df = pd.read_csv('pokemon.csv',usecols= [\"Pokemon\"])\n",
    "pokemon_series = pokemon_df.squeeze(\"columns\")"
   ]
  },
  {
   "cell_type": "code",
   "execution_count": 59,
   "id": "87fc5e06",
   "metadata": {},
   "outputs": [],
   "source": [
    "pokemon_series[0] = \"Whatever\""
   ]
  },
  {
   "cell_type": "code",
   "execution_count": 60,
   "id": "ecfa65c0",
   "metadata": {},
   "outputs": [
    {
     "data": {
      "text/plain": [
       "0    Whatever\n",
       "Name: Pokemon, dtype: object"
      ]
     },
     "execution_count": 60,
     "metadata": {},
     "output_type": "execute_result"
    }
   ],
   "source": [
    "pokemon_series.head(1)"
   ]
  },
  {
   "cell_type": "code",
   "execution_count": 61,
   "id": "b541c8fa",
   "metadata": {},
   "outputs": [
    {
     "data": {
      "text/html": [
       "<div>\n",
       "<style scoped>\n",
       "    .dataframe tbody tr th:only-of-type {\n",
       "        vertical-align: middle;\n",
       "    }\n",
       "\n",
       "    .dataframe tbody tr th {\n",
       "        vertical-align: top;\n",
       "    }\n",
       "\n",
       "    .dataframe thead th {\n",
       "        text-align: right;\n",
       "    }\n",
       "</style>\n",
       "<table border=\"1\" class=\"dataframe\">\n",
       "  <thead>\n",
       "    <tr style=\"text-align: right;\">\n",
       "      <th></th>\n",
       "      <th>Pokemon</th>\n",
       "    </tr>\n",
       "  </thead>\n",
       "  <tbody>\n",
       "    <tr>\n",
       "      <th>0</th>\n",
       "      <td>Whatever</td>\n",
       "    </tr>\n",
       "    <tr>\n",
       "      <th>1</th>\n",
       "      <td>Ivysaur</td>\n",
       "    </tr>\n",
       "    <tr>\n",
       "      <th>2</th>\n",
       "      <td>Venusaur</td>\n",
       "    </tr>\n",
       "    <tr>\n",
       "      <th>3</th>\n",
       "      <td>Charmander</td>\n",
       "    </tr>\n",
       "    <tr>\n",
       "      <th>4</th>\n",
       "      <td>Charmeleon</td>\n",
       "    </tr>\n",
       "    <tr>\n",
       "      <th>...</th>\n",
       "      <td>...</td>\n",
       "    </tr>\n",
       "    <tr>\n",
       "      <th>716</th>\n",
       "      <td>Yveltal</td>\n",
       "    </tr>\n",
       "    <tr>\n",
       "      <th>717</th>\n",
       "      <td>Zygarde</td>\n",
       "    </tr>\n",
       "    <tr>\n",
       "      <th>718</th>\n",
       "      <td>Diancie</td>\n",
       "    </tr>\n",
       "    <tr>\n",
       "      <th>719</th>\n",
       "      <td>Hoopa</td>\n",
       "    </tr>\n",
       "    <tr>\n",
       "      <th>720</th>\n",
       "      <td>Volcanion</td>\n",
       "    </tr>\n",
       "  </tbody>\n",
       "</table>\n",
       "<p>721 rows × 1 columns</p>\n",
       "</div>"
      ],
      "text/plain": [
       "        Pokemon\n",
       "0      Whatever\n",
       "1       Ivysaur\n",
       "2      Venusaur\n",
       "3    Charmander\n",
       "4    Charmeleon\n",
       "..          ...\n",
       "716     Yveltal\n",
       "717     Zygarde\n",
       "718     Diancie\n",
       "719       Hoopa\n",
       "720   Volcanion\n",
       "\n",
       "[721 rows x 1 columns]"
      ]
     },
     "execution_count": 61,
     "metadata": {},
     "output_type": "execute_result"
    }
   ],
   "source": [
    "pokemon_df"
   ]
  },
  {
   "cell_type": "code",
   "execution_count": 62,
   "id": "48d7108f",
   "metadata": {},
   "outputs": [],
   "source": [
    "# Seeing the data gives us a perspective that pokemon_df and pokemon_series are both diffeerent objects, but they are not.\n",
    "# if pokemon_df can be taken as dataframe then pokemon_series can be taken as a view, any change in the view can be seen in \n",
    "# dataframe"
   ]
  },
  {
   "cell_type": "code",
   "execution_count": 63,
   "id": "c84279a1",
   "metadata": {},
   "outputs": [],
   "source": [
    "pokemon_df = pd.read_csv(\"pokemon.csv\", usecols=[\"Pokemon\"])\n",
    "pokemon_series = pokemon_df.squeeze(\"columns\").copy() # indepedent Series"
   ]
  },
  {
   "cell_type": "code",
   "execution_count": 64,
   "id": "2c667f2c",
   "metadata": {},
   "outputs": [],
   "source": [
    "pokemon_series[0]= \"However\" "
   ]
  },
  {
   "cell_type": "code",
   "execution_count": 65,
   "id": "86baeeba",
   "metadata": {},
   "outputs": [
    {
     "data": {
      "text/html": [
       "<div>\n",
       "<style scoped>\n",
       "    .dataframe tbody tr th:only-of-type {\n",
       "        vertical-align: middle;\n",
       "    }\n",
       "\n",
       "    .dataframe tbody tr th {\n",
       "        vertical-align: top;\n",
       "    }\n",
       "\n",
       "    .dataframe thead th {\n",
       "        text-align: right;\n",
       "    }\n",
       "</style>\n",
       "<table border=\"1\" class=\"dataframe\">\n",
       "  <thead>\n",
       "    <tr style=\"text-align: right;\">\n",
       "      <th></th>\n",
       "      <th>Pokemon</th>\n",
       "    </tr>\n",
       "  </thead>\n",
       "  <tbody>\n",
       "    <tr>\n",
       "      <th>0</th>\n",
       "      <td>Bulbasaur</td>\n",
       "    </tr>\n",
       "    <tr>\n",
       "      <th>1</th>\n",
       "      <td>Ivysaur</td>\n",
       "    </tr>\n",
       "    <tr>\n",
       "      <th>2</th>\n",
       "      <td>Venusaur</td>\n",
       "    </tr>\n",
       "    <tr>\n",
       "      <th>3</th>\n",
       "      <td>Charmander</td>\n",
       "    </tr>\n",
       "    <tr>\n",
       "      <th>4</th>\n",
       "      <td>Charmeleon</td>\n",
       "    </tr>\n",
       "  </tbody>\n",
       "</table>\n",
       "</div>"
      ],
      "text/plain": [
       "      Pokemon\n",
       "0   Bulbasaur\n",
       "1     Ivysaur\n",
       "2    Venusaur\n",
       "3  Charmander\n",
       "4  Charmeleon"
      ]
     },
     "execution_count": 65,
     "metadata": {},
     "output_type": "execute_result"
    }
   ],
   "source": [
    "pokemon_df.head()"
   ]
  },
  {
   "cell_type": "markdown",
   "id": "8e5bf117",
   "metadata": {},
   "source": [
    "## The Inplace Parameter"
   ]
  },
  {
   "cell_type": "code",
   "execution_count": 72,
   "id": "eddaf40a",
   "metadata": {},
   "outputs": [],
   "source": [
    "google = (\n",
    "           pd.read_csv('google_stock_price.csv',usecols=['Stock Price'])\n",
    "           .squeeze('columns')\n",
    "           .copy()\n",
    "         )"
   ]
  },
  {
   "cell_type": "code",
   "execution_count": 68,
   "id": "e98a20ab",
   "metadata": {},
   "outputs": [
    {
     "data": {
      "text/plain": [
       "0    50.12\n",
       "1    54.10\n",
       "2    54.65\n",
       "3    52.38\n",
       "4    52.95\n",
       "Name: Stock Price, dtype: float64"
      ]
     },
     "execution_count": 68,
     "metadata": {},
     "output_type": "execute_result"
    }
   ],
   "source": [
    "google.head()"
   ]
  },
  {
   "cell_type": "code",
   "execution_count": 69,
   "id": "930e79cc",
   "metadata": {},
   "outputs": [
    {
     "data": {
      "text/plain": [
       "11    49.95\n",
       "9     50.07\n",
       "0     50.12\n",
       "10    50.70\n",
       "12    50.74\n",
       "Name: Stock Price, dtype: float64"
      ]
     },
     "execution_count": 69,
     "metadata": {},
     "output_type": "execute_result"
    }
   ],
   "source": [
    "google = google.sort_values()\n",
    "google.head()"
   ]
  },
  {
   "cell_type": "code",
   "execution_count": 70,
   "id": "9309cbf1",
   "metadata": {},
   "outputs": [
    {
     "data": {
      "text/plain": [
       "11       49.95\n",
       "9        50.07\n",
       "0        50.12\n",
       "10       50.70\n",
       "12       50.74\n",
       "         ...  \n",
       "3010    771.61\n",
       "3007    772.88\n",
       "3009    773.18\n",
       "2859    776.60\n",
       "3011    782.22\n",
       "Name: Stock Price, Length: 3012, dtype: float64"
      ]
     },
     "execution_count": 70,
     "metadata": {},
     "output_type": "execute_result"
    }
   ],
   "source": [
    "google.sort_values()"
   ]
  },
  {
   "cell_type": "code",
   "execution_count": 73,
   "id": "9bccf1bd",
   "metadata": {},
   "outputs": [],
   "source": [
    "google.sort_values(inplace=True)"
   ]
  },
  {
   "cell_type": "code",
   "execution_count": 74,
   "id": "9f8ce6a8",
   "metadata": {},
   "outputs": [
    {
     "data": {
      "text/plain": [
       "11    49.95\n",
       "9     50.07\n",
       "0     50.12\n",
       "10    50.70\n",
       "12    50.74\n",
       "Name: Stock Price, dtype: float64"
      ]
     },
     "execution_count": 74,
     "metadata": {},
     "output_type": "execute_result"
    }
   ],
   "source": [
    "google.head()"
   ]
  },
  {
   "cell_type": "code",
   "execution_count": 75,
   "id": "baafbb9f",
   "metadata": {},
   "outputs": [],
   "source": [
    "google.sort_index(inplace=True)"
   ]
  },
  {
   "cell_type": "code",
   "execution_count": 76,
   "id": "7f20bd29",
   "metadata": {},
   "outputs": [
    {
     "data": {
      "text/plain": [
       "0    50.12\n",
       "1    54.10\n",
       "2    54.65\n",
       "3    52.38\n",
       "4    52.95\n",
       "Name: Stock Price, dtype: float64"
      ]
     },
     "execution_count": 76,
     "metadata": {},
     "output_type": "execute_result"
    }
   ],
   "source": [
    "google.head()"
   ]
  },
  {
   "cell_type": "markdown",
   "id": "aac43871",
   "metadata": {},
   "source": [
    "## Math Methods on Series Objects"
   ]
  },
  {
   "cell_type": "code",
   "execution_count": 79,
   "id": "887a2055",
   "metadata": {},
   "outputs": [
    {
     "data": {
      "text/plain": [
       "0    50.12\n",
       "1    54.10\n",
       "2    54.65\n",
       "3    52.38\n",
       "4    52.95\n",
       "Name: Stock Price, dtype: float64"
      ]
     },
     "execution_count": 79,
     "metadata": {},
     "output_type": "execute_result"
    }
   ],
   "source": [
    "google = pd.read_csv(\"google_stock_price.csv\", usecols=[\"Stock Price\"]).squeeze(\"columns\")\n",
    "google.head()"
   ]
  },
  {
   "cell_type": "code",
   "execution_count": 80,
   "id": "c9e405bd",
   "metadata": {},
   "outputs": [
    {
     "data": {
      "text/plain": [
       "count    3012.000000\n",
       "mean      334.310093\n",
       "std       173.187205\n",
       "min        49.950000\n",
       "25%       218.045000\n",
       "50%       283.315000\n",
       "75%       443.000000\n",
       "max       782.220000\n",
       "Name: Stock Price, dtype: float64"
      ]
     },
     "execution_count": 80,
     "metadata": {},
     "output_type": "execute_result"
    }
   ],
   "source": [
    "google.count()\n",
    "google.sum()\n",
    "google.mean()\n",
    "google.product()\n",
    "google.std()\n",
    "google.min()\n",
    "google.max()\n",
    "google.mode()\n",
    "google.describe()"
   ]
  },
  {
   "cell_type": "markdown",
   "id": "9fd0bfea",
   "metadata": {},
   "source": [
    "## Broadcasting"
   ]
  },
  {
   "cell_type": "code",
   "execution_count": 81,
   "id": "1a778913",
   "metadata": {},
   "outputs": [
    {
     "data": {
      "text/plain": [
       "0    50.12\n",
       "1    54.10\n",
       "2    54.65\n",
       "3    52.38\n",
       "4    52.95\n",
       "Name: Stock Price, dtype: float64"
      ]
     },
     "execution_count": 81,
     "metadata": {},
     "output_type": "execute_result"
    }
   ],
   "source": [
    "google = pd.read_csv('google_stock_price.csv',usecols=[\"Stock Price\"]).squeeze(\"columns\")\n",
    "google.head()"
   ]
  },
  {
   "cell_type": "code",
   "execution_count": 84,
   "id": "dab6ea63",
   "metadata": {},
   "outputs": [
    {
     "data": {
      "text/plain": [
       "0        60.12\n",
       "1        64.10\n",
       "2        64.65\n",
       "3        62.38\n",
       "4        62.95\n",
       "         ...  \n",
       "3007    782.88\n",
       "3008    781.07\n",
       "3009    783.18\n",
       "3010    781.61\n",
       "3011    792.22\n",
       "Name: Stock Price, Length: 3012, dtype: float64"
      ]
     },
     "execution_count": 84,
     "metadata": {},
     "output_type": "execute_result"
    }
   ],
   "source": [
    "google + 10\n",
    "\n",
    "google.add(10)"
   ]
  },
  {
   "cell_type": "markdown",
   "id": "399d2983",
   "metadata": {},
   "source": [
    "## The value_counts Method"
   ]
  },
  {
   "cell_type": "code",
   "execution_count": 85,
   "id": "c3bebb62",
   "metadata": {},
   "outputs": [
    {
     "data": {
      "text/plain": [
       "Pokemon\n",
       "Bulbasaur     Grass\n",
       "Ivysaur       Grass\n",
       "Venusaur      Grass\n",
       "Charmander     Fire\n",
       "Charmeleon     Fire\n",
       "Name: Type, dtype: object"
      ]
     },
     "execution_count": 85,
     "metadata": {},
     "output_type": "execute_result"
    }
   ],
   "source": [
    "pokemon = pd.read_csv('pokemon.csv', index_col = 'Pokemon').squeeze()\n",
    "pokemon.head()"
   ]
  },
  {
   "cell_type": "code",
   "execution_count": 88,
   "id": "a084e427",
   "metadata": {},
   "outputs": [
    {
     "data": {
      "text/plain": [
       "Flying        3\n",
       "Fairy        17\n",
       "Steel        22\n",
       "Ghost        23\n",
       "Ice          23\n",
       "Dragon       24\n",
       "Fighting     25\n",
       "Poison       28\n",
       "Dark         28\n",
       "Ground       30\n",
       "Electric     36\n",
       "Rock         41\n",
       "Psychic      47\n",
       "Fire         47\n",
       "Bug          63\n",
       "Grass        66\n",
       "Normal       93\n",
       "Water       105\n",
       "Name: Type, dtype: int64"
      ]
     },
     "execution_count": 88,
     "metadata": {},
     "output_type": "execute_result"
    }
   ],
   "source": [
    "pokemon.value_counts()\n",
    "pokemon.value_counts(ascending=True)"
   ]
  },
  {
   "cell_type": "code",
   "execution_count": 90,
   "id": "10e798ae",
   "metadata": {},
   "outputs": [
    {
     "data": {
      "text/plain": [
       "Water       14.563107\n",
       "Normal      12.898752\n",
       "Grass        9.153953\n",
       "Bug          8.737864\n",
       "Fire         6.518724\n",
       "Psychic      6.518724\n",
       "Rock         5.686546\n",
       "Electric     4.993065\n",
       "Ground       4.160888\n",
       "Poison       3.883495\n",
       "Dark         3.883495\n",
       "Fighting     3.467406\n",
       "Dragon       3.328710\n",
       "Ghost        3.190014\n",
       "Ice          3.190014\n",
       "Steel        3.051318\n",
       "Fairy        2.357836\n",
       "Flying       0.416089\n",
       "Name: Type, dtype: float64"
      ]
     },
     "execution_count": 90,
     "metadata": {},
     "output_type": "execute_result"
    }
   ],
   "source": [
    "pokemon.value_counts(normalize=True) * 100"
   ]
  },
  {
   "cell_type": "markdown",
   "id": "76cdd5ce",
   "metadata": {},
   "source": [
    "## The apply Method"
   ]
  },
  {
   "cell_type": "code",
   "execution_count": 91,
   "id": "7756c71c",
   "metadata": {},
   "outputs": [
    {
     "data": {
      "text/plain": [
       "Pokemon\n",
       "Bulbasaur     Grass\n",
       "Ivysaur       Grass\n",
       "Venusaur      Grass\n",
       "Charmander     Fire\n",
       "Charmeleon     Fire\n",
       "Name: Type, dtype: object"
      ]
     },
     "execution_count": 91,
     "metadata": {},
     "output_type": "execute_result"
    }
   ],
   "source": [
    "pokemon = pd.read_csv('pokemon.csv', index_col='Pokemon').squeeze('columns')\n",
    "pokemon.head()"
   ]
  },
  {
   "cell_type": "code",
   "execution_count": 93,
   "id": "4f0a1fcf",
   "metadata": {},
   "outputs": [
    {
     "data": {
      "text/plain": [
       "Pokemon\n",
       "Bulbasaur     5\n",
       "Ivysaur       5\n",
       "Venusaur      5\n",
       "Charmander    4\n",
       "Charmeleon    4\n",
       "             ..\n",
       "Yveltal       4\n",
       "Zygarde       6\n",
       "Diancie       4\n",
       "Hoopa         7\n",
       "Volcanion     4\n",
       "Name: Type, Length: 721, dtype: int64"
      ]
     },
     "execution_count": 93,
     "metadata": {},
     "output_type": "execute_result"
    }
   ],
   "source": [
    "pokemon.apply(len)"
   ]
  },
  {
   "cell_type": "markdown",
   "id": "3f1e9831",
   "metadata": {},
   "source": [
    "## The map Method"
   ]
  },
  {
   "cell_type": "code",
   "execution_count": 95,
   "id": "0ff0d86f",
   "metadata": {},
   "outputs": [
    {
     "data": {
      "text/plain": [
       "Pokemon\n",
       "Bulbasaur     Grass\n",
       "Ivysaur       Grass\n",
       "Venusaur      Grass\n",
       "Charmander     Fire\n",
       "Charmeleon     Fire\n",
       "Name: Type, dtype: object"
      ]
     },
     "execution_count": 95,
     "metadata": {},
     "output_type": "execute_result"
    }
   ],
   "source": [
    "pokemon = pd.read_csv('pokemon.csv', index_col='Pokemon').squeeze('columns')\n",
    "pokemon.head()"
   ]
  },
  {
   "cell_type": "code",
   "execution_count": 96,
   "id": "40bab689",
   "metadata": {},
   "outputs": [],
   "source": [
    "mappings = {\n",
    "    'Grass':'Classic',\n",
    "    'Fire' : 'Classic',\n",
    "    'Water' : 'Classic',\n",
    "    'Normal' : 'Boring'\n",
    "    }"
   ]
  },
  {
   "cell_type": "code",
   "execution_count": 97,
   "id": "e578dba5",
   "metadata": {},
   "outputs": [
    {
     "data": {
      "text/plain": [
       "Pokemon\n",
       "Bulbasaur     Classic\n",
       "Ivysaur       Classic\n",
       "Venusaur      Classic\n",
       "Charmander    Classic\n",
       "Charmeleon    Classic\n",
       "               ...   \n",
       "Yveltal           NaN\n",
       "Zygarde           NaN\n",
       "Diancie           NaN\n",
       "Hoopa             NaN\n",
       "Volcanion     Classic\n",
       "Name: Type, Length: 721, dtype: object"
      ]
     },
     "execution_count": 97,
     "metadata": {},
     "output_type": "execute_result"
    }
   ],
   "source": [
    "pokemon.map(mappings)"
   ]
  },
  {
   "cell_type": "code",
   "execution_count": null,
   "id": "4f24c118",
   "metadata": {},
   "outputs": [],
   "source": []
  }
 ],
 "metadata": {
  "kernelspec": {
   "display_name": "Python 3 (ipykernel)",
   "language": "python",
   "name": "python3"
  },
  "language_info": {
   "codemirror_mode": {
    "name": "ipython",
    "version": 3
   },
   "file_extension": ".py",
   "mimetype": "text/x-python",
   "name": "python",
   "nbconvert_exporter": "python",
   "pygments_lexer": "ipython3",
   "version": "3.10.9"
  }
 },
 "nbformat": 4,
 "nbformat_minor": 5
}
